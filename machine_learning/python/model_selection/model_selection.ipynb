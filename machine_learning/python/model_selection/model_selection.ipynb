{
 "cells": [
  {
   "cell_type": "markdown",
   "metadata": {},
   "source": [
    "## Regression Model Performance\n",
    "\n",
    "### R Squared - Goodness of fit (greater is better)\n",
    "- Residual Sum of Squares (Regression) -> SS<sub>res</sub>\n",
    "- Total Sum of Squares (Average) -> SS<sub>tot</sub>\n",
    "- R<sup>2</sup> = 1 - (SS<sub>res</sub> / SS<sub>tot</sub>)\n",
    "- The better the model, the better the Residual Sum of Squares and the higher the R<sup>2</sup>\n",
    "    - R<sup>2</sup> = 1 -> perfect (suspicious)\n",
    "    - R<sup>2</sup> ~0.9 -> very good\n",
    "    - R<sup>2</sup> < 0.7 -> not great\n",
    "    - R<sup>2</sup> < 0.4 -> terrible\n",
    "    - R<sup>2</sup> < 0 -> invalid model\n",
    "- Problem: Adding another variable does not impact SS<sub>tot</sub> but does impact SS<sub>res</sub>\n",
    "    - SS<sub>tot</sub> doesn't change\n",
    "    - SS<sub>res</sub> will decrease or stay the same\n",
    "        - SS<sub>res</sub> will never increase when another variable is added\n",
    "        - Ordinary Least Squares seeks to minimize SS<sub>res</sub>\n",
    "\n",
    "### Adjusted R Squared\n",
    "- Adj R<sup>2</sup> -> 1 - ( 1 - R<sup>2</sup>) * ((n-1)/(n-k-1))\n",
    "    - k - number of independent variables\n",
    "    - n - sample size\n",
    "    - penalizes the model by adding another variable\n",
    "        - the new variable must provide enough value to compensate for the penalty\n",
    "\n",
    "## Regression Model Selection\n",
    "|Model|Pros|Cons|\n",
    "|:-----|:-----|:-----|\n",
    "|Linear|Works with any size of dataset, gives information about relevance of features|The Linear Regression Assumptions|\n",
    "|Polynomial|Works on any size of dataset, works very well on non linear problems|Need to choose the right polynomial degree for a good bias/variance tradeoff|\n",
    "|SVR|Easily adaptable, works very well on non linear problems, not biased by outliers|Compulsoary to apply feature scaling, not well known, more difficult to understand|\n",
    "|Decision Tree|Interpretability, no need for feature scaling, works on both linear/non linear problems|Poor results on too small datasets, overfitting can easily occur|\n",
    "|Random Forest|Powerful and accurate, good performance on many problems, including non linear|No interpretability, overfitting can easily occur, need to choose the right number of trees|"
   ]
  },
  {
   "cell_type": "markdown",
   "metadata": {},
   "source": [
    "# Classification\n",
    "\n",
    "## Confusion Matrix\n",
    "||Pred - Neg|Pred - Pos|\n",
    "|:-----|:-----|:-----|\n",
    "|Actual - Neg|True Neg|False Pos|\n",
    "|Actual - Pos|False Neg|True Pos|\n",
    "\n",
    "- Accuracy Rate = (TN + TP) / Total\n",
    "- Error Rate = (FP + FN) / Total\n",
    "\n",
    "## Classification Model Selection\n",
    "\n",
    "|Model|Pros|Cons|\n",
    "|:-----|:-----|:-----|\n",
    "|Logistic Regression|Probalistic approach, gives informations about statistical significance of features|The Logistic Regression Assumptions|\n",
    "|K-NN|Simple to understand, fast and efficient|Need to choose then number of neighbors k|\n",
    "|SVM|Performant, not biased by outliers, not sensitive to overfitting|Not appropriate for non linear problems, not the best choice for large number of features, more complex|\n",
    "|Kernel SVM|High performance on nonlinear problems, not biased by outliers, not sensitive to overfitting|Not the best for large number of features, more complex|\n",
    "|Naive Bayes|Efficient, not biased by outliers, works on nonlinear problems, probabilistic approach|Based on the assumption that features hvae same statistical relevance|\n",
    "|Decision Tree|Interpretability, no need for feature scaling, works on both linear/nonlinear problems|Poor results on too small datasets, overfitting can easily occur|\n",
    "|Random Forest|Powerful and accurate, good performance on many problems, including nonlinear|No interpretability, overfitting can easily occur, need to choose the number of trees|\n"
   ]
  },
  {
   "cell_type": "markdown",
   "metadata": {},
   "source": []
  }
 ],
 "metadata": {
  "language_info": {
   "name": "python"
  }
 },
 "nbformat": 4,
 "nbformat_minor": 2
}
