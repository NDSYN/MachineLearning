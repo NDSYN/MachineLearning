{
 "cells": [
  {
   "cell_type": "markdown",
   "metadata": {},
   "source": [
    "## Regression Model Selection\n",
    "\n",
    "### R Squared\n",
    "- Residual Sum of Squares (Regression) -> SS<sub>res</sub>\n",
    "- Total Sum of Squares (Average) -> SS<sub>tot</sub>\n",
    "- R<sup>2</sup> = 1 - (SS<sub>res</sub> / SS<sub>tot</sub>)\n",
    "- The better the model, the better the Residual Sum of Squares and the higher the R<sup>2</sup>\n",
    "  - R<sup>2</sup> = 1 -> perfect (suspicious)\n",
    "  - R<sup>2</sup> ~0.9 -> very good\n",
    "  - R<sup>2</sup> < 0.7 -> not great\n",
    "  - R<sup>2</sup> < 0.4 -> terrible\n",
    "  - R<sup>2</sup> < 0 -> invalid model"
   ]
  },
  {
   "cell_type": "markdown",
   "metadata": {},
   "source": []
  }
 ],
 "metadata": {
  "language_info": {
   "name": "python"
  }
 },
 "nbformat": 4,
 "nbformat_minor": 2
}
